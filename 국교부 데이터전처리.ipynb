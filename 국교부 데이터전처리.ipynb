{
 "cells": [
  {
   "cell_type": "code",
   "execution_count": 32,
   "id": "9185581f",
   "metadata": {},
   "outputs": [],
   "source": [
    "#버전1\n",
    "from urllib.parse import urlencode, quote_plus\n",
    "import requests\n",
    "import pandas as pd\n",
    "from bs4 import BeautifulSoup\n",
    "import bs4\n",
    "\n",
    "url = 'http://openapi.molit.go.kr:8081/OpenAPI_ToolInstallPackage/service/rest/RTMSOBJSvc/getRTMSDataSvcAptTrade?_wadl&type=xml'\n",
    "service_key = 'OGhTjetKP%2Bhch%2BVsdkrc25WzVEpvhA0HiAwPfw%2Fx1ApwnvAEkGDxZGmq8Tnq2m0q1I%2BdC6TH9gdzuwHiVAUVDg%3D%3D'\n",
    "\n",
    "base_date = [\"202007\", \"202008\", \"202009\"]\n",
    "\n",
    "for i in range(len(base_date)):\n",
    "    \n",
    "    #구 단위로 데이터 수집 ex) 금천구\n",
    "    gu_code = '11545'\n",
    "    payload = \"serviceKey = \" + service_key + \"LAWD_CD = \" + gu_code + \"&\" + \"DEAL_YMD = \" + base_date[i] + \"&\"\n",
    "    \n",
    "    res = requests.get(url + payload).text\n",
    "    xmlobj = bs4.BeautifulSoup(res, 'lxml-xml')\n",
    "    rows = xmlobj.findAll('item')\n",
    "    \n",
    "    rowList = []\n",
    "    nameList = []\n",
    "    columnList = []\n",
    "    \n",
    "    rowsLen = len(rows)\n",
    "    for i in range(0, rowsLen):\n",
    "        columns = rows[i].find_all()\n",
    "        \n",
    "        columnsLen = len(columns)\n",
    "        for j in range(0, columnsLen):\n",
    "            if i == 0:\n",
    "                nameList.append(columns[j].name)\n",
    "            eachColumn = columns[j].text\n",
    "            columnList.append(eachColumn)\n",
    "        rowList.append(columnList)\n",
    "        columnList = []\n",
    "    result = pd.DataFrame(rowList, columns = nameList)"
   ]
  },
  {
   "cell_type": "code",
   "execution_count": 33,
   "id": "fc842531",
   "metadata": {},
   "outputs": [
    {
     "data": {
      "text/html": [
       "<div>\n",
       "<style scoped>\n",
       "    .dataframe tbody tr th:only-of-type {\n",
       "        vertical-align: middle;\n",
       "    }\n",
       "\n",
       "    .dataframe tbody tr th {\n",
       "        vertical-align: top;\n",
       "    }\n",
       "\n",
       "    .dataframe thead th {\n",
       "        text-align: right;\n",
       "    }\n",
       "</style>\n",
       "<table border=\"1\" class=\"dataframe\">\n",
       "  <thead>\n",
       "    <tr style=\"text-align: right;\">\n",
       "      <th></th>\n",
       "    </tr>\n",
       "  </thead>\n",
       "  <tbody>\n",
       "  </tbody>\n",
       "</table>\n",
       "</div>"
      ],
      "text/plain": [
       "Empty DataFrame\n",
       "Columns: []\n",
       "Index: []"
      ]
     },
     "execution_count": 33,
     "metadata": {},
     "output_type": "execute_result"
    }
   ],
   "source": [
    "result"
   ]
  },
  {
   "cell_type": "code",
   "execution_count": 29,
   "id": "5ba1d755",
   "metadata": {},
   "outputs": [
    {
     "name": "stdout",
     "output_type": "stream",
     "text": [
      "http://openapi.molit.go.kr/OpenAPI_ToolInstallPackage/service/rest/RTMSOBJSvc/getRTMSDataSvcAptTradeDev?LAWD_CD={11110}&DEAL_YMD={201512}&serviceKey={OGhTjetKP%2Bhch%2BVsdkrc25WzVEpvhA0HiAwPfw%2Fx1ApwnvAEkGDxZGmq8Tnq2m0q1I%2BdC6TH9gdzuwHiVAUVDg%3D%3D&numOfRows={1000}\n"
     ]
    },
    {
     "ename": "ModuleNotFoundError",
     "evalue": "No module named 'xlsxwriter'",
     "output_type": "error",
     "traceback": [
      "\u001b[1;31m---------------------------------------------------------------------------\u001b[0m",
      "\u001b[1;31mModuleNotFoundError\u001b[0m                       Traceback (most recent call last)",
      "Cell \u001b[1;32mIn[29], line 78\u001b[0m\n\u001b[0;32m     75\u001b[0m     item[\u001b[38;5;124m'\u001b[39m\u001b[38;5;124m건축년도\u001b[39m\u001b[38;5;124m'\u001b[39m] \u001b[38;5;241m=\u001b[39m \u001b[38;5;28mint\u001b[39m(item[\u001b[38;5;124m'\u001b[39m\u001b[38;5;124m건축년도\u001b[39m\u001b[38;5;124m'\u001b[39m])\n\u001b[0;32m     76\u001b[0m     itemList\u001b[38;5;241m.\u001b[39mappend(item)\n\u001b[1;32m---> 78\u001b[0m \u001b[43mexportExcel2\u001b[49m\u001b[43m(\u001b[49m\u001b[43mitemList\u001b[49m\u001b[43m,\u001b[49m\u001b[43m \u001b[49m\u001b[38;5;124;43m'\u001b[39;49m\u001b[38;5;124;43mC:\u001b[39;49m\u001b[38;5;130;43;01m\\\\\u001b[39;49;00m\u001b[38;5;124;43mUsers\u001b[39;49m\u001b[38;5;130;43;01m\\\\\u001b[39;49;00m\u001b[38;5;124;43mUSER\u001b[39;49m\u001b[38;5;130;43;01m\\\\\u001b[39;49;00m\u001b[38;5;124;43mlandlist.xlsx\u001b[39;49m\u001b[38;5;124;43m'\u001b[39;49m\u001b[43m)\u001b[49m\n",
      "Cell \u001b[1;32mIn[29], line 15\u001b[0m, in \u001b[0;36mexportExcel2\u001b[1;34m(itemList, fileName)\u001b[0m\n\u001b[0;32m     13\u001b[0m \u001b[38;5;28;01mdef\u001b[39;00m \u001b[38;5;21mexportExcel2\u001b[39m(itemList, fileName):\n\u001b[1;32m---> 15\u001b[0m     writer \u001b[38;5;241m=\u001b[39m \u001b[43mpd\u001b[49m\u001b[38;5;241;43m.\u001b[39;49m\u001b[43mExcelWriter\u001b[49m\u001b[43m(\u001b[49m\u001b[43mfileName\u001b[49m\u001b[43m,\u001b[49m\u001b[43m \u001b[49m\u001b[43mengine\u001b[49m\u001b[38;5;241;43m=\u001b[39;49m\u001b[38;5;124;43m'\u001b[39;49m\u001b[38;5;124;43mxlsxwriter\u001b[39;49m\u001b[38;5;124;43m'\u001b[39;49m\u001b[43m)\u001b[49m\n\u001b[0;32m     16\u001b[0m     df \u001b[38;5;241m=\u001b[39m pd\u001b[38;5;241m.\u001b[39mDataFrame(columns\u001b[38;5;241m=\u001b[39mitemList[\u001b[38;5;241m0\u001b[39m])\n\u001b[0;32m     18\u001b[0m     \u001b[38;5;28;01mfor\u001b[39;00m data \u001b[38;5;129;01min\u001b[39;00m itemList:\n",
      "File \u001b[1;32m~\\anaconda3\\lib\\site-packages\\pandas\\io\\excel\\_xlsxwriter.py:192\u001b[0m, in \u001b[0;36mXlsxWriter.__init__\u001b[1;34m(self, path, engine, date_format, datetime_format, mode, storage_options, if_sheet_exists, engine_kwargs, **kwargs)\u001b[0m\n\u001b[0;32m    179\u001b[0m \u001b[38;5;28;01mdef\u001b[39;00m \u001b[38;5;21m__init__\u001b[39m(\n\u001b[0;32m    180\u001b[0m     \u001b[38;5;28mself\u001b[39m,\n\u001b[0;32m    181\u001b[0m     path: FilePath \u001b[38;5;241m|\u001b[39m WriteExcelBuffer \u001b[38;5;241m|\u001b[39m ExcelWriter,\n\u001b[1;32m   (...)\u001b[0m\n\u001b[0;32m    190\u001b[0m ) \u001b[38;5;241m-\u001b[39m\u001b[38;5;241m>\u001b[39m \u001b[38;5;28;01mNone\u001b[39;00m:\n\u001b[0;32m    191\u001b[0m     \u001b[38;5;66;03m# Use the xlsxwriter module as the Excel writer.\u001b[39;00m\n\u001b[1;32m--> 192\u001b[0m     \u001b[38;5;28;01mfrom\u001b[39;00m \u001b[38;5;21;01mxlsxwriter\u001b[39;00m \u001b[38;5;28;01mimport\u001b[39;00m Workbook\n\u001b[0;32m    194\u001b[0m     engine_kwargs \u001b[38;5;241m=\u001b[39m combine_kwargs(engine_kwargs, kwargs)\n\u001b[0;32m    196\u001b[0m     \u001b[38;5;28;01mif\u001b[39;00m mode \u001b[38;5;241m==\u001b[39m \u001b[38;5;124m\"\u001b[39m\u001b[38;5;124ma\u001b[39m\u001b[38;5;124m\"\u001b[39m:\n",
      "\u001b[1;31mModuleNotFoundError\u001b[0m: No module named 'xlsxwriter'"
     ]
    }
   ],
   "source": [
    "#버전2\n",
    "import os\n",
    "import pandas as pd\n",
    "import urllib.request\n",
    "from requests import get\n",
    "from bs4 import BeautifulSoup\n",
    "\n",
    "serviceKey = 'OGhTjetKP%2Bhch%2BVsdkrc25WzVEpvhA0HiAwPfw%2Fx1ApwnvAEkGDxZGmq8Tnq2m0q1I%2BdC6TH9gdzuwHiVAUVDg%3D%3D'\n",
    "ymd = '201512'\n",
    "landcode = '11110'\n",
    "numrow = 1000\n",
    "url = 'http://openapi.molit.go.kr/OpenAPI_ToolInstallPackage/service/rest/RTMSOBJSvc/getRTMSDataSvcAptTradeDev?LAWD_CD={11110}&DEAL_YMD={201512}&serviceKey={OGhTjetKP%2Bhch%2BVsdkrc25WzVEpvhA0HiAwPfw%2Fx1ApwnvAEkGDxZGmq8Tnq2m0q1I%2BdC6TH9gdzuwHiVAUVDg%3D%3D&numOfRows={1000}'\n",
    "\n",
    "def exportExcel2(itemList, fileName):\n",
    "    \n",
    "    writer = pd.ExcelWriter(fileName, engine='xlsxwriter')\n",
    "    df = pd.DataFrame(columns=itemList[0])\n",
    "    \n",
    "    for data in itemList:\n",
    "        item = data\n",
    "        \n",
    "        df.loc[len(df)] = data\n",
    "        \n",
    "        print(item)\n",
    "        \n",
    "        df = df.sort_values(by='매매일', ascending=False)\n",
    "        df.to_excel(writer, sheet_name='마포구')\n",
    "        writer.save()\n",
    "        os.startfile(fileName)\n",
    "        return\n",
    "    \n",
    "print(url)\n",
    "\n",
    "res = urllib.request.urlopen(url)\n",
    "result = res.read()\n",
    "soup = BeautifulSoup(result, 'lxml-xml')\n",
    "items = soup.findAll('item')\n",
    "\n",
    "keylist = {\n",
    "    '거래금액',\n",
    "    '건축년도',\n",
    "    '년',\n",
    "    '도로명',\n",
    "    '도로명건물본번호코드',\n",
    "    '도로명건물부번호코드',\n",
    "    '도로명시군구코드',\n",
    "    '도로명일련번호코드',\n",
    "    '도로명코드',\n",
    "    '법정동',\n",
    "    '법정동본번코드',\n",
    "    '법정동부번코드',\n",
    "    '법정동시군구코드',\n",
    "    '법정동읍면동코드',\n",
    "    '법정동지번코드',\n",
    "    '아파트',\n",
    "    '월',\n",
    "    '일',\n",
    "    '전용면적',\n",
    "    '지번',\n",
    "    '지역코드',\n",
    "    '층',\n",
    "}\n",
    "\n",
    "itemList = []\n",
    "\n",
    "for v in items:\n",
    "    item = {}\n",
    "    \n",
    "    for key in keylist:\n",
    "        item[key] = v.find(key).text\n",
    "    \n",
    "    item['매매일'] = int(item['년']) * 10000 + int(item['월']) * 100 + int(item['일'])\n",
    "    item['거래금액'] = int(item['거래금액'].replace(',', ''))\n",
    "    item['전용면적'] = float(item['전용면적'])\n",
    "    item['층'] = int(item['층'])\n",
    "    item['건축년도'] = int(item['건축년도'])\n",
    "    itemList.append(item)\n",
    "    \n",
    "exportExcel2(itemList, 'C:\\\\Users\\\\USER\\\\landlist.xlsx')"
   ]
  },
  {
   "cell_type": "code",
   "execution_count": null,
   "id": "f290d167",
   "metadata": {},
   "outputs": [],
   "source": [
    "#버전3\n",
    "import pandas as pd\n",
    "import requests\n",
    "import bs4 as bs\n",
    "import urllib.request\n",
    "\n",
    "from general_functions import get_file_contents\n",
    "from general_functions import load_xml_to_dataframe\n",
    "\n",
    "\n",
    "url = 'http://openapi.molit.go.kr:8081/OpenAPI_ToolInstallPackage/service/rest/RTMSOBJSvc/getRTMSDataSvcAptTrade'\n",
    "filename = 'ServiceKey 국토교통부 아파트매매 실거래.txt'\n",
    "api_key = get_file_contents(filename)"
   ]
  },
  {
   "cell_type": "code",
   "execution_count": null,
   "id": "1216a5e1",
   "metadata": {},
   "outputs": [],
   "source": [
    "df = pd.DataFrame()\n",
    "for ymd in range(202101, 202205):  # ['202101', '202204', '202205']:\n",
    "    params = {'serviceKey': api_key, 'LAWD_CD': '50130', 'DEAL_YMD': str(ymd)}\n",
    "    try:\n",
    "        d = load_xml_to_dataframe(requests.get(url,\n",
    "                                           params=params\n",
    "                                           ).text, 'item')\n",
    "        df = df.append(d, ignore_index=True)\n",
    "    except:\n",
    "        pass"
   ]
  },
  {
   "cell_type": "code",
   "execution_count": null,
   "id": "1f6e67c1",
   "metadata": {},
   "outputs": [],
   "source": [
    "df['거래일자'] = df.년.astype(str) + '-' + df.월.astype(str) + '-' + df.일.astype(str)\n",
    "df['거래일자'] = pd.to_datetime(df['거래일자'])"
   ]
  },
  {
   "cell_type": "code",
   "execution_count": null,
   "id": "b20ddb33",
   "metadata": {},
   "outputs": [],
   "source": [
    "for col in ['거래금액', '건축년도', '년', '층', '일', '월']:\n",
    "    df[col] = pd.to_numeric(df[col].str.replace(\",\", \"\"))"
   ]
  },
  {
   "cell_type": "code",
   "execution_count": null,
   "id": "924f5e82",
   "metadata": {},
   "outputs": [],
   "source": [
    "import numpy as np\n",
    "pd.pivot_table(data=df, index='법정동', columns='거래유형',\n",
    "               values='거래금액', aggfunc=sum, fill_value=0)"
   ]
  },
  {
   "cell_type": "code",
   "execution_count": null,
   "id": "933aeda7",
   "metadata": {},
   "outputs": [],
   "source": [
    "import pydeck as pdk\n",
    "import streamlit as st"
   ]
  },
  {
   "cell_type": "code",
   "execution_count": null,
   "id": "0581617b",
   "metadata": {},
   "outputs": [],
   "source": [
    "import os\n",
    "from dotenv import load_dotenv\n",
    "\n",
    "load_dotenv(verbose=True)\n",
    "token = os.getenv('MAPBOX_API_KEY')"
   ]
  },
  {
   "cell_type": "code",
   "execution_count": null,
   "id": "2868a554",
   "metadata": {},
   "outputs": [],
   "source": [
    "import seaborn as sns\n",
    "import matplotlib.pyplot as plt\n",
    "from matplotlib import font_manager, rc\n",
    "%matplotlib inline\n",
    "\n",
    "sns.set_palette('Set2')\n",
    "\n",
    "plt.rcParams['font.family'] = 'AppleGothic'\n",
    "\n",
    "#figsize 를 전역으로 설정\n",
    "plt.rcParams['figure.figsize'] = (13, 8)"
   ]
  },
  {
   "cell_type": "code",
   "execution_count": null,
   "id": "b50a9016",
   "metadata": {},
   "outputs": [],
   "source": [
    "result = pd.pivot_table(data=df, index='법정동', values='거래금액',\n",
    "                        aggfunc='sum', fill_value=0).sort_values('거래금액', ascending=False)\n",
    "result[:10]"
   ]
  },
  {
   "cell_type": "code",
   "execution_count": null,
   "id": "e94f6621",
   "metadata": {},
   "outputs": [],
   "source": [
    "from sklearn.model_selection import train_test_split\n",
    "from sklearn.preprocessing import OneHotEncoder\n",
    "from sklearn.preprocessing import LabelEncoder\n",
    "from sklearn.impute import SimpleImputer\n",
    "from sklearn.compose import ColumnTransformer\n",
    "from sklearn.pipeline import Pipeline"
   ]
  },
  {
   "cell_type": "code",
   "execution_count": null,
   "id": "7ff7a33a",
   "metadata": {},
   "outputs": [],
   "source": [
    "import plotly.graph_objs as go\n",
    "import plotly.offline as py\n",
    "\n",
    "from plotly.offline import init_notebook_mode\n",
    "init_notebook_mode(connected=True)"
   ]
  },
  {
   "cell_type": "code",
   "execution_count": null,
   "id": "92bb8c9e",
   "metadata": {},
   "outputs": [],
   "source": [
    "import plotly.express as px\n",
    "\n",
    "fig = px.scatter(\n",
    "    df,\n",
    "    color='법정동',\n",
    "    x=df.거래일자.sort_values(ascending=True),\n",
    "    y=df.거래금액\n",
    "    )\n",
    "\n",
    "fig.show()\n",
    "\n",
    "fig.write_html(\"output.html\")"
   ]
  },
  {
   "cell_type": "code",
   "execution_count": null,
   "id": "65de5166",
   "metadata": {},
   "outputs": [],
   "source": [
    "df.info()"
   ]
  },
  {
   "cell_type": "code",
   "execution_count": null,
   "id": "e4d42663",
   "metadata": {},
   "outputs": [],
   "source": [
    "import datetime\n",
    "\n",
    "fig = px.bar(\n",
    "    df,\n",
    "    color='법정동',\n",
    "    x= df['거래일자'].dt.strftime('%Y-%m') ,\n",
    "    y='거래금액'\n",
    "    )\n",
    "\n",
    "fig.show()"
   ]
  }
 ],
 "metadata": {
  "kernelspec": {
   "display_name": "Python 3 (ipykernel)",
   "language": "python",
   "name": "python3"
  },
  "language_info": {
   "codemirror_mode": {
    "name": "ipython",
    "version": 3
   },
   "file_extension": ".py",
   "mimetype": "text/x-python",
   "name": "python",
   "nbconvert_exporter": "python",
   "pygments_lexer": "ipython3",
   "version": "3.10.9"
  }
 },
 "nbformat": 4,
 "nbformat_minor": 5
}
